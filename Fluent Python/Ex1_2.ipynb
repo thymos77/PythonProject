{
 "cells": [
  {
   "cell_type": "code",
   "execution_count": 1,
   "metadata": {},
   "outputs": [],
   "source": [
    "from math import hypot\n",
    "\n",
    "class Vector:\n",
    "  def __init__(self, x=0,y=0):\n",
    "    self.x = x\n",
    "    self.y = y\n",
    "  \n",
    "  def __repr__(self):\n",
    "    return 'Vector(%r,%r)' %(self.x , self.y)\n",
    "  \n",
    "  def __abs__(self):\n",
    "    return hypot(self.x, self.y)\n",
    "\n",
    "  def __bool__(self):\n",
    "    return bool(abs(self))\n",
    "  \n",
    "  def __add__(self,other):\n",
    "    x = self.x + other.x\n",
    "    y = self.y + other.y\n",
    "    return Vector(x,y)\n",
    "  \n",
    "  def __mul__(self, scaler):\n",
    "    return Vector(self.x*scaler, self.y*scaler)\n",
    "  \n"
   ]
  },
  {
   "cell_type": "code",
   "execution_count": 3,
   "metadata": {},
   "outputs": [
    {
     "data": {
      "text/plain": [
       "Vector(4,5)"
      ]
     },
     "execution_count": 3,
     "metadata": {},
     "output_type": "execute_result"
    }
   ],
   "source": [
    "v1 = Vector(2,4)\n",
    "V2 = Vector(2,1)\n",
    "v1+V2"
   ]
  },
  {
   "cell_type": "code",
   "execution_count": 4,
   "metadata": {},
   "outputs": [
    {
     "data": {
      "text/plain": [
       "5.0"
      ]
     },
     "execution_count": 4,
     "metadata": {},
     "output_type": "execute_result"
    }
   ],
   "source": [
    "v = Vector(3,4)\n",
    "abs(v)"
   ]
  }
 ],
 "metadata": {
  "kernelspec": {
   "display_name": "Python 3",
   "language": "python",
   "name": "python3"
  },
  "language_info": {
   "codemirror_mode": {
    "name": "ipython",
    "version": 3
   },
   "file_extension": ".py",
   "mimetype": "text/x-python",
   "name": "python",
   "nbconvert_exporter": "python",
   "pygments_lexer": "ipython3",
   "version": "3.11.9"
  }
 },
 "nbformat": 4,
 "nbformat_minor": 2
}
